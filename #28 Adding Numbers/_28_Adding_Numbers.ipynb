{
  "nbformat": 4,
  "nbformat_minor": 0,
  "metadata": {
    "colab": {
      "provenance": []
    },
    "kernelspec": {
      "name": "python3",
      "display_name": "Python 3"
    },
    "language_info": {
      "name": "python"
    }
  },
  "cells": [
    {
      "cell_type": "code",
      "execution_count": null,
      "metadata": {
        "id": "3izAtutTIXMP"
      },
      "outputs": [],
      "source": [
        "#Constraints\n",
        "\n",
        "#List to store inputs\n",
        "num_list = []\n",
        "\n",
        "#Loop to handle inputs\n",
        "for i in range(5):\n",
        "    while True:\n",
        "        try:\n",
        "            num_in = input(\"Enter a number: \")\n",
        "            x = float(num_in)\n",
        "            num_list.append(x)\n",
        "            break\n",
        "        except:\n",
        "            print(\"Only Numerical Values!\")\n",
        "            continue\n",
        "\n",
        "#Produce Sum of list elements\n",
        "y = sum(num_list)\n",
        "\n",
        "#Craft Output\n",
        "output = f\"The total is {y}.\"\n",
        "print(output)"
      ]
    },
    {
      "cell_type": "code",
      "source": [
        "#Challenge Number 1\n",
        "\n",
        "#Prompt for number of digits to add\n",
        "while True:\n",
        "  try:\n",
        "    count = input(\"How many numbers would you like to add? \")\n",
        "    c = int(count)\n",
        "    break\n",
        "  except:\n",
        "    print(\"Numerical Integer Values Only!\")\n",
        "    continue\n",
        "\n",
        "#List to store inputs\n",
        "num_list = []\n",
        "\n",
        "#Loop to handle specified number of inputs\n",
        "for i in range(c):\n",
        "    while True:\n",
        "        try:\n",
        "            num_in = input(\"Enter a number: \")\n",
        "            x = float(num_in)\n",
        "            num_list.append(x)\n",
        "            break\n",
        "        except:\n",
        "            print(\"Only Numerical Values!\")\n",
        "            continue\n",
        "\n",
        "#Produce Sum of list elements\n",
        "y = sum(num_list)\n",
        "\n",
        "#Craft Output\n",
        "output = f\"The total is {y}.\"\n",
        "print(output)"
      ],
      "metadata": {
        "id": "v38KTjgjLqtz"
      },
      "execution_count": null,
      "outputs": []
    },
    {
      "cell_type": "code",
      "source": [
        "#Challenge Number 2\n",
        "\n",
        "#Prompt for number of digits to add\n",
        "while True:\n",
        "  try:\n",
        "    count = input(\"How many numbers would you like to add? \")\n",
        "    c = int(count)\n",
        "    break\n",
        "  except:\n",
        "    print(\"Numerical Integer Values Only!\")\n",
        "    continue\n",
        "\n",
        "#List to store inputs\n",
        "num_list = []\n",
        "\n",
        "#Loop to handle specified number of inputs\n",
        "for i in range(c):\n",
        "    while True:\n",
        "        try:\n",
        "            num_in = input(\"Enter a number: \")\n",
        "            x = float(num_in)\n",
        "            num_list.append(x)\n",
        "            break\n",
        "        except:\n",
        "            break\n",
        "\n",
        "#Produce Sum of list elements\n",
        "y = sum(num_list)\n",
        "\n",
        "#Craft Output\n",
        "output = f\"The total is {y}.\"\n",
        "print(output)"
      ],
      "metadata": {
        "id": "h2zbJjf0OiSs"
      },
      "execution_count": null,
      "outputs": []
    }
  ]
}