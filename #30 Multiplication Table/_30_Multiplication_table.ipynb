{
  "nbformat": 4,
  "nbformat_minor": 0,
  "metadata": {
    "colab": {
      "provenance": []
    },
    "kernelspec": {
      "name": "python3",
      "display_name": "Python 3"
    },
    "language_info": {
      "name": "python"
    }
  },
  "cells": [
    {
      "cell_type": "code",
      "execution_count": null,
      "metadata": {
        "id": "O7b5eOgdhA9U"
      },
      "outputs": [],
      "source": [
        "#Constraint\n",
        "\n",
        "#First Loop to establish the base number\n",
        "for i in range(13):\n",
        "    x = i\n",
        "    #Second Loop to assign multipler\n",
        "    for i in range(13):\n",
        "        #Perform Multiplication\n",
        "        y = x*i\n",
        "        #Produce Output\n",
        "        print(f'{x} x {i} = {y}')"
      ]
    },
    {
      "cell_type": "code",
      "source": [
        "#Challenge 1\n",
        "\n",
        "import tkinter\n",
        "from tkinter import *\n",
        "\n",
        "root = tkinter.Tk()\n",
        "\n",
        "#Add a Label to identify this\n",
        "#as a Multiplication app\n",
        "label1 = Label(root, text=\"Multiplication Table!\")\n",
        "label1.pack()\n",
        "\n",
        "\n",
        "#Function for capturing dropdown input\n",
        "def message(event):\n",
        "    out = ''\n",
        "    i = int(event)\n",
        "    for num in range(13):\n",
        "        y = i * num\n",
        "        out += f'{i} x {num} = {y}\\n'\n",
        "    label2.config(text = out)\n",
        "\n",
        "#Add a dropdown menu to allow\n",
        "#User to set base number\n",
        "clicked = StringVar()\n",
        "options = ['1',\n",
        "           '2',\n",
        "           '3',\n",
        "           '4',\n",
        "           '5',\n",
        "           '6',\n",
        "           '7',\n",
        "           '8',\n",
        "           '9',\n",
        "           '10',\n",
        "           '11',\n",
        "           '12'\n",
        "           ]\n",
        "drop = OptionMenu(root, clicked, *options, command=message)\n",
        "drop.pack()\n",
        "drop.bind(message)\n",
        "\n",
        "\n"
      ],
      "metadata": {
        "id": "gHvo37cZb2aP"
      },
      "execution_count": null,
      "outputs": []
    },
    {
      "cell_type": "code",
      "source": [
        "#Challenge 2\n",
        "\n",
        "for row in range(1,13):\n",
        "        print(*(\"{:3}\".format(row*col) for col in range(1,13)))"
      ],
      "metadata": {
        "colab": {
          "base_uri": "https://localhost:8080/"
        },
        "id": "wn3j09lSgeNS",
        "outputId": "0cdbc57b-df13-4935-a05d-acaf924ce3b4"
      },
      "execution_count": 3,
      "outputs": [
        {
          "output_type": "stream",
          "name": "stdout",
          "text": [
            "  1   2   3   4   5   6   7   8   9  10  11  12\n",
            "  2   4   6   8  10  12  14  16  18  20  22  24\n",
            "  3   6   9  12  15  18  21  24  27  30  33  36\n",
            "  4   8  12  16  20  24  28  32  36  40  44  48\n",
            "  5  10  15  20  25  30  35  40  45  50  55  60\n",
            "  6  12  18  24  30  36  42  48  54  60  66  72\n",
            "  7  14  21  28  35  42  49  56  63  70  77  84\n",
            "  8  16  24  32  40  48  56  64  72  80  88  96\n",
            "  9  18  27  36  45  54  63  72  81  90  99 108\n",
            " 10  20  30  40  50  60  70  80  90 100 110 120\n",
            " 11  22  33  44  55  66  77  88  99 110 121 132\n",
            " 12  24  36  48  60  72  84  96 108 120 132 144\n"
          ]
        }
      ]
    }
  ]
}