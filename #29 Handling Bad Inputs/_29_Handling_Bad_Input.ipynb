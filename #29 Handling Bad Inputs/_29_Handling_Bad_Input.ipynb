{
  "nbformat": 4,
  "nbformat_minor": 0,
  "metadata": {
    "colab": {
      "provenance": []
    },
    "kernelspec": {
      "name": "python3",
      "display_name": "Python 3"
    },
    "language_info": {
      "name": "python"
    }
  },
  "cells": [
    {
      "cell_type": "code",
      "execution_count": null,
      "metadata": {
        "id": "foVJELeUY8-n"
      },
      "outputs": [],
      "source": [
        "#Constraints\n",
        "\n",
        "#Loop to handle inputs\n",
        "#Continues if value entered is zero or non-numeric\n",
        "while True:\n",
        "    try:\n",
        "        rate_of_return = input('What is the rate of return? ')\n",
        "        ror = float(rate_of_return)\n",
        "        if ror == 0:\n",
        "            raise\n",
        "        break\n",
        "    except:\n",
        "        print(\"Sorry that's not a valid input\")\n",
        "        continue\n",
        "\n",
        "#Apply rule of 72\n",
        "years = 72 / ror\n",
        "\n",
        "#Construct & Print Output\n",
        "output = f\"It will take {years} years to double your initial investment\"\n",
        "print(output)"
      ]
    },
    {
      "cell_type": "code",
      "source": [
        "#Challenge #1\n",
        "\n",
        "#Loop to handle inputs\n",
        "#Continues if value entered is zero or non-numeric\n",
        "while True:\n",
        "    try:\n",
        "        rate_of_return = input('What is the rate of return? ')\n",
        "        ror = float(rate_of_return)\n",
        "        if ror == 0:\n",
        "            raise\n",
        "        break\n",
        "    except ValueError:\n",
        "        print(\"Non-Zero Numerical Values Only!\")\n",
        "        continue\n",
        "    except:\n",
        "        print(\"Zero is unacceptable\")\n",
        "        continue\n",
        "\n",
        "#Apply rule of 72\n",
        "years = 72 / ror\n",
        "\n",
        "#Construct & Print Output\n",
        "output = f\"It will take {years} years to double your initial investment\"\n",
        "print(output)"
      ],
      "metadata": {
        "id": "zjPX_hChZG1u"
      },
      "execution_count": null,
      "outputs": []
    }
  ]
}